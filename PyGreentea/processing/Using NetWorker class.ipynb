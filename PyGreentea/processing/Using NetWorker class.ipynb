{
 "cells": [
  {
   "cell_type": "code",
   "execution_count": 1,
   "metadata": {},
   "outputs": [
    {
     "name": "stdout",
     "output_type": "stream",
     "text": [
      "Mon Sep 19 17:02:27 2016       \n",
      "+------------------------------------------------------+                       \n",
      "| NVIDIA-SMI 352.39     Driver Version: 352.39         |                       \n",
      "|-------------------------------+----------------------+----------------------+\n",
      "| GPU  Name        Persistence-M| Bus-Id        Disp.A | Volatile Uncorr. ECC |\n",
      "| Fan  Temp  Perf  Pwr:Usage/Cap|         Memory-Usage | GPU-Util  Compute M. |\n",
      "|===============================+======================+======================|\n",
      "|   0  GeForce GTX TIT...  Off  | 0000:04:00.0     Off |                  N/A |\n",
      "| 35%   76C    P2   218W / 250W |   7636MiB / 12287MiB |     99%      Default |\n",
      "+-------------------------------+----------------------+----------------------+\n",
      "|   1  GeForce GTX TIT...  Off  | 0000:05:00.0     Off |                  N/A |\n",
      "| 44%   82C    P2   224W / 250W |  10643MiB / 12287MiB |     88%      Default |\n",
      "+-------------------------------+----------------------+----------------------+\n",
      "|   2  GeForce GTX TIT...  Off  | 0000:08:00.0     Off |                  N/A |\n",
      "| 43%   83C    P2   230W / 250W |   7636MiB / 12287MiB |     99%      Default |\n",
      "+-------------------------------+----------------------+----------------------+\n",
      "|   3  GeForce GTX TIT...  Off  | 0000:09:00.0     Off |                  N/A |\n",
      "| 48%   80C    P2   107W / 250W |  10643MiB / 12287MiB |      0%      Default |\n",
      "+-------------------------------+----------------------+----------------------+\n",
      "|   4  GeForce GTX TIT...  Off  | 0000:85:00.0     Off |                  N/A |\n",
      "| 35%   74C    P2   107W / 250W |   7637MiB / 12287MiB |      0%      Default |\n",
      "+-------------------------------+----------------------+----------------------+\n",
      "|   5  GeForce GTX TIT...  Off  | 0000:86:00.0     Off |                  N/A |\n",
      "| 22%   27C    P8    15W / 250W |     23MiB / 12287MiB |      0%      Default |\n",
      "+-------------------------------+----------------------+----------------------+\n",
      "|   6  GeForce GTX TIT...  Off  | 0000:89:00.0     Off |                  N/A |\n",
      "| 22%   21C    P8    15W / 250W |     23MiB / 12287MiB |      0%      Default |\n",
      "+-------------------------------+----------------------+----------------------+\n",
      "|   7  GeForce GTX TIT...  Off  | 0000:8A:00.0     Off |                  N/A |\n",
      "| 22%   23C    P8    15W / 250W |     23MiB / 12287MiB |      0%      Default |\n",
      "+-------------------------------+----------------------+----------------------+\n",
      "                                                                               \n",
      "+-----------------------------------------------------------------------------+\n",
      "| Processes:                                                       GPU Memory |\n",
      "|  GPU       PID  Type  Process name                               Usage      |\n",
      "|=============================================================================|\n",
      "|    0     77937    C   python                                        7608MiB |\n",
      "|    1     79134    C   python                                       10613MiB |\n",
      "|    2     80070    C   python                                        7608MiB |\n",
      "|    3     80525    C   python                                       10613MiB |\n",
      "|    4     68107    C   python                                        7609MiB |\n",
      "+-----------------------------------------------------------------------------+\n"
     ]
    }
   ],
   "source": [
    "!nvidia-smi"
   ]
  },
  {
   "cell_type": "code",
   "execution_count": 3,
   "metadata": {},
   "outputs": [],
   "source": [
    "from __future__ import print_function\n",
    "\n",
    "from operator import mul\n",
    "import os\n",
    "import sys\n",
    "\n",
    "import h5py\n",
    "import ipyparallel\n",
    "import numpy as np\n",
    "\n",
    "# import PyGreentea as pygt"
   ]
  },
  {
   "cell_type": "code",
   "execution_count": 4,
   "metadata": {},
   "outputs": [],
   "source": [
    "class NetWorker(object):\n",
    "    def __init__(self, net_proto_path, caffemodel_path, gpu_device=0):\n",
    "        self.net_proto_path = net_proto_path\n",
    "        self.caffemodel_path = caffemodel_path\n",
    "        self.gpu_device = gpu_device\n",
    "    \n",
    "    def process(self, dataset):\n",
    "        import PyGreentea as pygt\n",
    "        pygt.caffe.set_mode_gpu()\n",
    "        pygt.caffe.set_device(self.gpu_device)\n",
    "        net = pygt.caffe.Net(net_path, caffemodel_path, pygt.caffe.TEST)\n",
    "        preds = pygt.process(net, [dataset])\n",
    "        return preds"
   ]
  },
  {
   "cell_type": "code",
   "execution_count": 9,
   "metadata": {},
   "outputs": [],
   "source": [
    "net_path = \"/groups/turaga/home/grisaitisw/experiments/run_0912_1/net_test_big.prototxt\"\n",
    "caffemodel_path = \"/groups/turaga/home/grisaitisw/experiments/run_0912_1/net_iter_20000.caffemodel\"\n",
    "test_device = 7\n",
    "net_worker = NetWorker(net_path, caffemodel_path, test_device)"
   ]
  },
  {
   "cell_type": "code",
   "execution_count": 6,
   "metadata": {},
   "outputs": [],
   "source": [
    "client = ipyparallel.Client(\"/groups/turaga/home/grisaitisw/.ipython/profile_greentea/security/ipcontroller-client.json\")"
   ]
  },
  {
   "cell_type": "code",
   "execution_count": 8,
   "metadata": {},
   "outputs": [],
   "source": [
    "lbv = client.load_balanced_view()"
   ]
  },
  {
   "cell_type": "code",
   "execution_count": 36,
   "metadata": {},
   "outputs": [],
   "source": [
    "def process_func(net_path, caffemodel_path, dataset):\n",
    "    import h5py\n",
    "    import PyGreentea as pygt\n",
    "    data_filename = dataset[\"data\"]\n",
    "    data_key = \"main\"\n",
    "    with h5py.File(data_filename, \"r\") as h5_file:\n",
    "        data_h5_dataset = h5_file[data_key]\n",
    "        dataset[\"data\"] = data_h5_dataset\n",
    "        pygt.caffe.set_mode_gpu()\n",
    "        pygt.caffe.set_device(self.gpu_device)\n",
    "        net = pygt.caffe.Net(net_path, caffemodel_path, pygt.caffe.TEST)\n",
    "        preds = pygt.process(net, [dataset])\n",
    "        return True"
   ]
  },
  {
   "cell_type": "code",
   "execution_count": 37,
   "metadata": {},
   "outputs": [],
   "source": [
    "dataset = dict(\n",
    "    data=\"/groups/turaga/home/turagas/data/FlyEM/fibsem_medulla_7col/trvol-250-1-h5/im_uint8.h5\",\n",
    "    image_scaling_factor=0.5**8,\n",
    "    name=\"trvol-250-1-h5\"\n",
    ")\n",
    "#     preds = net_worker.process(dataset)\n",
    "#     async_result = lbv.apply_async(net_worker.process, dataset)\n",
    "async_result = lbv.apply_async(process_func, net_path, caffemodel_path, dataset)"
   ]
  },
  {
   "cell_type": "code",
   "execution_count": null,
   "metadata": {},
   "outputs": [],
   "source": [
    "async_result.get()"
   ]
  },
  {
   "cell_type": "code",
   "execution_count": null,
   "metadata": {},
   "outputs": [],
   "source": [
    ""
   ]
  },
  {
   "cell_type": "code",
   "execution_count": null,
   "metadata": {},
   "outputs": [],
   "source": [
    "async_result = lbv.apply_async"
   ]
  },
  {
   "cell_type": "code",
   "execution_count": null,
   "metadata": {},
   "outputs": [],
   "source": [
    ""
   ]
  },
  {
   "cell_type": "code",
   "execution_count": null,
   "metadata": {},
   "outputs": [],
   "source": [
    ""
   ]
  },
  {
   "cell_type": "code",
   "execution_count": null,
   "metadata": {},
   "outputs": [],
   "source": [
    "pred = preds[0]\n",
    "print(pred.dtype, pred.shape, np.mean(pred))"
   ]
  },
  {
   "cell_type": "code",
   "execution_count": null,
   "metadata": {},
   "outputs": [],
   "source": [
    "import multiprocessing"
   ]
  },
  {
   "cell_type": "code",
   "execution_count": null,
   "metadata": {},
   "outputs": [],
   "source": [
    "process = multiprocessing.Process(target=net_worker.process, args=(d))"
   ]
  },
  {
   "cell_type": "code",
   "execution_count": null,
   "metadata": {},
   "outputs": [],
   "source": [
    "random_state = np.random.RandomState(seed=0)\n",
    "shape = (1,) + (148,) * 3\n",
    "size = reduce(mul, shape)\n",
    "input_data = random_state.uniform(size=size).astype(np.float32)\n",
    "input_data = input_data.reshape(shape)\n",
    "print(input_data.dtype, input_data.shape, input_data.mean())\n",
    "dummy_slice = np.ascontiguousarray([0]).astype(np.float32)"
   ]
  }
 ],
 "metadata": {
  "kernelspec": {
   "display_name": "Python 2",
   "language": "python",
   "name": "python2"
  },
  "language_info": {
   "codemirror_mode": {
    "name": "ipython",
    "version": 2.0
   },
   "file_extension": ".py",
   "mimetype": "text/x-python",
   "name": "python",
   "nbconvert_exporter": "python",
   "pygments_lexer": "ipython2",
   "version": "2.7.11"
  }
 },
 "nbformat": 4,
 "nbformat_minor": 0
}