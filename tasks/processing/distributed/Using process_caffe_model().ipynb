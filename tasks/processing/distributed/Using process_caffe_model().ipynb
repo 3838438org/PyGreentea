{
 "cells": [
  {
   "cell_type": "code",
   "execution_count": 1,
   "metadata": {
    "collapsed": false
   },
   "outputs": [
    {
     "name": "stdout",
     "output_type": "stream",
     "text": [
      "Mon Sep 19 14:30:09 2016       \n",
      "+------------------------------------------------------+                       \n",
      "| NVIDIA-SMI 352.39     Driver Version: 352.39         |                       \n",
      "|-------------------------------+----------------------+----------------------+\n",
      "| GPU  Name        Persistence-M| Bus-Id        Disp.A | Volatile Uncorr. ECC |\n",
      "| Fan  Temp  Perf  Pwr:Usage/Cap|         Memory-Usage | GPU-Util  Compute M. |\n",
      "|===============================+======================+======================|\n",
      "|   0  GeForce GTX TIT...  Off  | 0000:04:00.0     Off |                  N/A |\n",
      "| 34%   70C    P2    87W / 250W |   7636MiB / 12287MiB |      0%      Default |\n",
      "+-------------------------------+----------------------+----------------------+\n",
      "|   1  GeForce GTX TIT...  Off  | 0000:05:00.0     Off |                  N/A |\n",
      "| 44%   82C    P2   259W / 250W |  10643MiB / 12287MiB |     99%      Default |\n",
      "+-------------------------------+----------------------+----------------------+\n",
      "|   2  GeForce GTX TIT...  Off  | 0000:08:00.0     Off |                  N/A |\n",
      "| 44%   79C    P2    96W / 250W |   7636MiB / 12287MiB |      0%      Default |\n",
      "+-------------------------------+----------------------+----------------------+\n",
      "|   3  GeForce GTX TIT...  Off  | 0000:09:00.0     Off |                  N/A |\n",
      "| 47%   82C    P2   255W / 250W |  10643MiB / 12287MiB |     99%      Default |\n",
      "+-------------------------------+----------------------+----------------------+\n",
      "|   4  GeForce GTX TIT...  Off  | 0000:85:00.0     Off |                  N/A |\n",
      "| 36%   74C    P2   210W / 250W |   7637MiB / 12287MiB |     99%      Default |\n",
      "+-------------------------------+----------------------+----------------------+\n",
      "|   5  GeForce GTX TIT...  Off  | 0000:86:00.0     Off |                  N/A |\n",
      "| 49%   83C    P2   246W / 250W |  10953MiB / 12287MiB |    100%      Default |\n",
      "+-------------------------------+----------------------+----------------------+\n",
      "|   6  GeForce GTX TIT...  Off  | 0000:89:00.0     Off |                  N/A |\n",
      "| 48%   84C    P2   255W / 250W |  10953MiB / 12287MiB |     99%      Default |\n",
      "+-------------------------------+----------------------+----------------------+\n",
      "|   7  GeForce GTX TIT...  Off  | 0000:8A:00.0     Off |                  N/A |\n",
      "| 22%   29C    P8    15W / 250W |     23MiB / 12287MiB |      0%      Default |\n",
      "+-------------------------------+----------------------+----------------------+\n",
      "                                                                               \n",
      "+-----------------------------------------------------------------------------+\n",
      "| Processes:                                                       GPU Memory |\n",
      "|  GPU       PID  Type  Process name                               Usage      |\n",
      "|=============================================================================|\n",
      "+-----------------------------------------------------------------------------+\n"
     ]
    }
   ],
   "source": [
    "!nvidia-smi"
   ]
  },
  {
   "cell_type": "code",
   "execution_count": 2,
   "metadata": {
    "collapsed": false
   },
   "outputs": [
    {
     "name": "stdout",
     "output_type": "stream",
     "text": [
      "/opt/caffe_gt/python\n"
     ]
    }
   ],
   "source": [
    "from __future__ import print_function\n",
    "\n",
    "import sys\n",
    "from operator import mul\n",
    "\n",
    "import numpy as np\n",
    "\n",
    "import PyGreentea as pygt"
   ]
  },
  {
   "cell_type": "code",
   "execution_count": 3,
   "metadata": {
    "collapsed": false
   },
   "outputs": [],
   "source": [
    "sys.path.append(\"/groups/turaga/home/grisaitisw/src/greentea-evaluation-pipeline/\")\n",
    "import processing"
   ]
  },
  {
   "cell_type": "code",
   "execution_count": 4,
   "metadata": {
    "collapsed": false
   },
   "outputs": [],
   "source": [
    "from processing import process_caffe_model"
   ]
  },
  {
   "cell_type": "code",
   "execution_count": 5,
   "metadata": {
    "collapsed": true
   },
   "outputs": [],
   "source": [
    "net_path = \"/groups/turaga/home/grisaitisw/experiments/run_0912_1/net_test.prototxt\"\n",
    "caffemodel_path = \"/groups/turaga/home/grisaitisw/experiments/run_0912_1/net_iter_20000.caffemodel\"\n",
    "test_device = 7"
   ]
  },
  {
   "cell_type": "code",
   "execution_count": 6,
   "metadata": {
    "collapsed": false
   },
   "outputs": [
    {
     "name": "stdout",
     "output_type": "stream",
     "text": [
      "float32 (1, 148, 148, 148) 0.499931\n"
     ]
    }
   ],
   "source": [
    "random_state = np.random.RandomState(seed=0)\n",
    "shape = (1,) + (148,) * 3\n",
    "size = reduce(mul, shape)\n",
    "input_data = random_state.uniform(size=size).astype(np.float32)\n",
    "input_data = input_data.reshape(shape)\n",
    "print(input_data.dtype, input_data.shape, input_data.mean())\n",
    "dummy_slice = np.ascontiguousarray([0]).astype(np.float32)\n"
   ]
  },
  {
   "cell_type": "code",
   "execution_count": 7,
   "metadata": {
    "collapsed": false
   },
   "outputs": [
    {
     "name": "stdout",
     "output_type": "stream",
     "text": [
      "Using device:  7\n",
      "Loading proto: /groups/turaga/home/grisaitisw/experiments/run_0912_1/net_test_big.prototxt\n",
      "Loading model: /groups/turaga/home/grisaitisw/experiments/run_0912_1/net_iter_20000.caffemodel\n",
      "(1, 1, 236, 236, 236)\n",
      "Processing 1 volumes...\n",
      "Saving to /nobackup/turaga/grisaitisw/affinitieststvol-520-2-h5.h5\n",
      "Processing to /nobackup/turaga/grisaitisw/affinitieststvol-520-2-h5.h5\n",
      "[-44, -44, -44]\n",
      "0.795214\n"
     ]
    }
   ],
   "source": [
    "process_caffe_model(\n",
    "    modelpath=\"/groups/turaga/home/grisaitisw/experiments/run_0912_1/\",\n",
    "    iter=20000,\n",
    "    outputpath=\"/nobackup/turaga/grisaitisw/affinities\",\n",
    "    dset=[dict(data=input_data, name=\"tstvol-520-2-h5\")],\n",
    "    normalize=False,\n",
    "    divide=False,\n",
    "    bigdata=True,\n",
    "    test_device=test_device\n",
    ")"
   ]
  },
  {
   "cell_type": "code",
   "execution_count": null,
   "metadata": {
    "collapsed": false
   },
   "outputs": [],
   "source": [
    "pygt.caffe.set_mode_gpu()\n",
    "pygt.caffe.select_device(test_device, False)"
   ]
  },
  {
   "cell_type": "code",
   "execution_count": null,
   "metadata": {
    "collapsed": false
   },
   "outputs": [],
   "source": [
    "net = pygt.init_testnet(net_path, caffemodel_path, pygt.caffe.TEST)\n",
    "input_dims, output_dims, input_padding = pygt.get_spatial_io_dims(net)\n",
    "fmaps_in, fmaps_out = pygt.get_fmap_io_dims(net)\n",
    "shapes = [[1, fmaps_in] + input_dims]\n",
    "print(net, shapes)"
   ]
  },
  {
   "cell_type": "code",
   "execution_count": null,
   "metadata": {
    "collapsed": true
   },
   "outputs": [],
   "source": [
    "net_io = pygt.NetInputWrapper(net, shapes)"
   ]
  },
  {
   "cell_type": "code",
   "execution_count": null,
   "metadata": {
    "collapsed": true
   },
   "outputs": [],
   "source": [
    "result = pygt.process_input_data(net_io, input_data)"
   ]
  },
  {
   "cell_type": "code",
   "execution_count": null,
   "metadata": {
    "collapsed": false
   },
   "outputs": [],
   "source": [
    "net_io.setInputs(input_data)\n",
    "print(input_data.mean())\n",
    "# net_io.net.blobs[\"data\"].data.mean()"
   ]
  },
  {
   "cell_type": "code",
   "execution_count": null,
   "metadata": {
    "collapsed": true
   },
   "outputs": [],
   "source": [
    "net_io.net.forward()\n"
   ]
  },
  {
   "cell_type": "code",
   "execution_count": null,
   "metadata": {
    "collapsed": false
   },
   "outputs": [],
   "source": [
    "for blob in net.blobs:\n",
    "    try:\n",
    "        print(net.blobs[blob].data.shape, net.blobs[blob].data.mean())\n",
    "    except:\n",
    "        pass"
   ]
  },
  {
   "cell_type": "code",
   "execution_count": null,
   "metadata": {
    "collapsed": true
   },
   "outputs": [],
   "source": [
    "dataset = dict(data=)\n",
    "process(net, data_arrays)"
   ]
  }
 ],
 "metadata": {
  "kernelspec": {
   "display_name": "Python 2",
   "language": "python",
   "name": "python2"
  },
  "language_info": {
   "codemirror_mode": {
    "name": "ipython",
    "version": 2
   },
   "file_extension": ".py",
   "mimetype": "text/x-python",
   "name": "python",
   "nbconvert_exporter": "python",
   "pygments_lexer": "ipython2",
   "version": "2.7.11"
  }
 },
 "nbformat": 4,
 "nbformat_minor": 0
}
